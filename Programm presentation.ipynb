{
 "cells": [
  {
   "cell_type": "code",
   "execution_count": 16,
   "id": "bc787c93-6ce2-4db9-b83b-3d3eb5995f3f",
   "metadata": {},
   "outputs": [
    {
     "name": "stdout",
     "output_type": "stream",
     "text": [
      "[<class 'int'>]\n",
      "8.39\n",
      "[<class 'int'>, <class 'float'>]\n",
      "0 [<class 'int'>, <class 'float'>, 0]\n",
      "[<class 'int'>, <class 'float'>, 0, <class 'int'>]\n"
     ]
    }
   ],
   "source": [
    "#4.a\n",
    "v = 8\n",
    "\n",
    "#4.b\n",
    "list2 = []\n",
    "\n",
    "#4.c\n",
    "list2.append(type(v))  \n",
    "print(list2) \n",
    "\n",
    "#4.d\n",
    "v += 0.39\n",
    "print(v)\n",
    "\n",
    "#4.e\n",
    "list2.append(type(v))  \n",
    "print(list2) \n",
    "\n",
    "#4.f\n",
    "v = round(v ** -10) \n",
    "list2.append(v) \n",
    "print(v, list2)\n",
    "\n",
    "#4.g\n",
    "list2.append(type(v))  \n",
    "print(list2)"
   ]
  },
  {
   "cell_type": "code",
   "execution_count": null,
   "id": "4509a0b0-bf3c-4f6b-848e-8cbb7d831994",
   "metadata": {},
   "outputs": [],
   "source": [
    "'''Problem 5: More variable type changes\n",
    "\n",
    "Continue from where you left off in Problem 4.\n",
    "\n",
    "5.a Manually create a dictionary where the values are items in the list from where we left in \n",
    "    problem 4, and the keys should be their index in the list. Print the dictionary.\n",
    " .b Add 300 and coerce it into a string\n",
    " .c append the type to the list\n",
    " .d slice the string up to the 2nd element\n",
    " .e append the type to the list\n",
    " .f use list comprehension to convert this into a new list of integers\n",
    " .g append the type to the list\n",
    " .h append the type of three_setA to the list\n",
    "\"\"\"\n",
    " "
   ]
  },
  {
   "cell_type": "code",
   "execution_count": 18,
   "id": "12474d1f-7740-42ed-882b-9ffb53556634",
   "metadata": {},
   "outputs": [
    {
     "name": "stdout",
     "output_type": "stream",
     "text": [
      "{0: \"<class 'int'>\", 1: \"<class 'float'>\", 2: 0, 3: \"<class 'float'>\"}\n"
     ]
    }
   ],
   "source": [
    "\"5.a Manually create a dictionary where the values are items in the list from where we left in \n",
    "    \"problem 4, and the keys should be their index in the list. Print the dictionary.\"\n",
    "dict2 = {0: \"<class 'int'>\", 1: \"<class 'float'>\", 2: 0, 3: \"<class 'float'>\"}\n",
    "print(dict2)\n",
    "\n",
    "#dict2 is a dictionary created manually, where the keys are indices and the values represent types or values based on the items in list2."
   ]
  },
  {
   "cell_type": "code",
   "execution_count": 20,
   "id": "b9a54cfb-059c-4d4f-82d8-59e2f1b0f015",
   "metadata": {},
   "outputs": [
    {
     "name": "stdout",
     "output_type": "stream",
     "text": [
      "[<class 'int'>, <class 'float'>, 0, <class 'int'>, '300']\n"
     ]
    }
   ],
   "source": [
    "\"5.b Add 300 and coerce it into a string\"\n",
    "list2.append(str(300))  # Convert 300 to a string and add it to list2\n",
    "print(list2)\n"
   ]
  },
  {
   "cell_type": "code",
   "execution_count": 22,
   "id": "3caa62f3-3d7a-4f90-ba50-51ce7cab3516",
   "metadata": {},
   "outputs": [
    {
     "name": "stdout",
     "output_type": "stream",
     "text": [
      "[<class 'int'>, <class 'float'>, 0, <class 'int'>, '300', <class 'str'>]\n"
     ]
    }
   ],
   "source": [
    "\"5.c append the type to the list\"\n",
    "list2.append(type(str(300)))  # Append the type of the string \"300\" to list2\n",
    "print(list2)"
   ]
  },
  {
   "cell_type": "code",
   "execution_count": 30,
   "id": "a9ff3ebc-9244-47e2-8327-25a7a314e9da",
   "metadata": {},
   "outputs": [
    {
     "name": "stdout",
     "output_type": "stream",
     "text": [
      "30\n"
     ]
    }
   ],
   "source": [
    "\"5.d slice the string up to the 2nd element\"\n",
    "v_slice = list2[-2][:2]  #takes the second-to-last item in list2, assumes it's a string, and extracts its first two characters.\n",
    "print(v_slice)"
   ]
  },
  {
   "cell_type": "code",
   "execution_count": 32,
   "id": "e48760d6-ed31-472f-a7bf-0f745b04aeeb",
   "metadata": {},
   "outputs": [
    {
     "name": "stdout",
     "output_type": "stream",
     "text": [
      "[<class 'int'>, <class 'float'>, 0, <class 'int'>, '300', <class 'str'>, <class 'str'>]\n"
     ]
    }
   ],
   "source": [
    "\"5.e append the type to the list\"\n",
    "list2.append(type(v_slice)) \n",
    "print(list2)"
   ]
  },
  {
   "cell_type": "code",
   "execution_count": 34,
   "id": "857283cb-a696-4bc8-8a76-340f1f23b6a9",
   "metadata": {},
   "outputs": [
    {
     "name": "stdout",
     "output_type": "stream",
     "text": [
      "[3, 0]\n"
     ]
    }
   ],
   "source": [
    "\"5.f use list comprehension to convert this into a new list of integers\"\n",
    "int_list2 = [int(i) for i in v_slice]  # Convert the sliced string to a list of integers\n",
    "print(int_list2)\n",
    "#Iterates over each character in the string v_slice. Converts each character to an integer. Collects these integers into a list and assigns it to int_list2."
   ]
  },
  {
   "cell_type": "code",
   "execution_count": 36,
   "id": "b6813d95-b989-42bd-9e5e-dec635e8fae0",
   "metadata": {},
   "outputs": [
    {
     "name": "stdout",
     "output_type": "stream",
     "text": [
      "[<class 'int'>, <class 'float'>, 0, <class 'int'>, '300', <class 'str'>, <class 'str'>, <class 'list'>]\n"
     ]
    }
   ],
   "source": [
    "\"5.g append the type to the list\"\n",
    "list2.append(type(int_list2)) \n",
    "print(list2)"
   ]
  },
  {
   "cell_type": "code",
   "execution_count": 38,
   "id": "f9a87297-8e2e-4f77-a0a8-e2f7e11e1b42",
   "metadata": {},
   "outputs": [
    {
     "name": "stdout",
     "output_type": "stream",
     "text": [
      "[<class 'int'>, <class 'float'>, 0, <class 'int'>, '300', <class 'str'>, <class 'str'>, <class 'list'>, <class 'set'>]\n"
     ]
    }
   ],
   "source": [
    "\"5.h append the type of three_setA to the list\"\n",
    "three_setA = {1, 2, 3, 4, 5}  \n",
    "list2.append(type(three_setA)) \n",
    "print(list2)"
   ]
  },
  {
   "cell_type": "code",
   "execution_count": null,
   "id": "85d69e2c-0640-4c3f-874d-c84153adb0b5",
   "metadata": {},
   "outputs": [],
   "source": []
  }
 ],
 "metadata": {
  "kernelspec": {
   "display_name": "Python 3 (ipykernel)",
   "language": "python",
   "name": "python3"
  },
  "language_info": {
   "codemirror_mode": {
    "name": "ipython",
    "version": 3
   },
   "file_extension": ".py",
   "mimetype": "text/x-python",
   "name": "python",
   "nbconvert_exporter": "python",
   "pygments_lexer": "ipython3",
   "version": "3.12.4"
  }
 },
 "nbformat": 4,
 "nbformat_minor": 5
}
